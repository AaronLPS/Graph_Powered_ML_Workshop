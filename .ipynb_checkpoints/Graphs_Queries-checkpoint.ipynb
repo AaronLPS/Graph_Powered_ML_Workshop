{
 "cells": [
  {
   "cell_type": "markdown",
   "metadata": {},
   "source": [
    "Graph Queries"
   ]
  },
  {
   "cell_type": "code",
   "execution_count": null,
   "metadata": {},
   "outputs": [],
   "source": [
    "import json\n",
    "import requests\n",
    "import sys\n",
    "\n",
    "from pyArango.connection import *\n",
    "from pyArango.collection import Collection, Edges, Field\n",
    "from pyArango.graph import Graph, EdgeDefinition\n",
    "from pyArango.collection import BulkOperation as BulkOperation"
   ]
  },
  {
   "cell_type": "code",
   "execution_count": null,
   "metadata": {},
   "outputs": [],
   "source": [
    "# retrieving credentials from ArangoDB tutorial service\n",
    "def getTempCredentials():\n",
    "  with open(\"creds.dat\",\"r+\") as cacheFile: \n",
    "    contents = cacheFile.read()\n",
    "    if len(contents) > 0:\n",
    "      #. check if credentials are still valid\n",
    "      login = json.loads(contents)\n",
    "      url = \"https://\"+login[\"hostname\"]+\":\"+str(login[\"port\"])\n",
    "      conn =\"\"\n",
    "      try: \n",
    "        conn = Connection(arangoURL=url, username=login[\"username\"], password=login[\"password\"],)\n",
    "        print(\"Reusing cached credentials.\")\n",
    "        return login\n",
    "      except:\n",
    "        print(\"Credentials expired.\")\n",
    "        pass # Ignore and retrieve new \n",
    "    \n",
    "    # Retrieve new credentials from Foxx Service\n",
    "    print(\"Requesting new temp credentials.\")\n",
    "    url = 'https://5904e8d8a65f.arangodb.cloud:8529/_db/_system/alpha/tutorialDB'\n",
    "    x = requests.post(url, data = \"{}\")\n",
    "\n",
    "    if x.status_code != 200:\n",
    "      print(\"Error retrieving login data.\")\n",
    "      sys.exit()\n",
    "    # Caching credentials\n",
    "    cacheFile.write(x.text)\n",
    "  return json.loads(x.text)"
   ]
  },
  {
   "cell_type": "code",
   "execution_count": null,
   "metadata": {},
   "outputs": [],
   "source": [
    "# Retrieve tmp credentials from ArangoDB Tutorial Service\n",
    "login = getTempCredentials()\n",
    "\n",
    "# Connect to your temp database\n",
    "url = \"https://\"+login[\"hostname\"]+\":\"+str(login[\"port\"])\n",
    "conn = Connection(arangoURL=url, username=login[\"username\"], password=login[\"password\"],)\n",
    "db = conn[login[\"dbName\"]] "
   ]
  },
  {
   "cell_type": "code",
   "execution_count": null,
   "metadata": {},
   "outputs": [],
   "source": [
    "print(db)"
   ]
  },
  {
   "cell_type": "code",
   "execution_count": null,
   "metadata": {},
   "outputs": [],
   "source": []
  }
 ],
 "metadata": {
  "kernelspec": {
   "display_name": "Python 3",
   "language": "python",
   "name": "python3"
  },
  "language_info": {
   "codemirror_mode": {
    "name": "ipython",
    "version": 3
   },
   "file_extension": ".py",
   "mimetype": "text/x-python",
   "name": "python",
   "nbconvert_exporter": "python",
   "pygments_lexer": "ipython3",
   "version": "3.7.7"
  }
 },
 "nbformat": 4,
 "nbformat_minor": 4
}
