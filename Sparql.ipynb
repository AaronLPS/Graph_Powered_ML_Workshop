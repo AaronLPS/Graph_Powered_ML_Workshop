{
  "nbformat": 4,
  "nbformat_minor": 0,
  "metadata": {
    "kernelspec": {
      "display_name": "Python 3",
      "language": "python",
      "name": "python3"
    },
    "language_info": {
      "codemirror_mode": {
        "name": "ipython",
        "version": 3
      },
      "file_extension": ".py",
      "mimetype": "text/x-python",
      "name": "python",
      "nbconvert_exporter": "python",
      "pygments_lexer": "ipython3",
      "version": "3.7.7"
    },
    "colab": {
      "name": "Sparql.ipynb",
      "provenance": []
    }
  },
  "cells": [
    {
      "cell_type": "markdown",
      "metadata": {
        "id": "eXTZTEE1djeu",
        "colab_type": "text"
      },
      "source": [
        "# RDF & SPARQL "
      ]
    },
    {
      "cell_type": "markdown",
      "metadata": {
        "id": "5pmqe999djew",
        "colab_type": "text"
      },
      "source": [
        "<a href=\"https://colab.research.google.com/github/joerg84/Graph_Powered_ML_Workshop/blob/master/Sparql.ipynb\" target=\"_parent\"><img src=\"https://colab.research.google.com/assets/colab-badge.svg\" alt=\"Open In Colab\"/></a>"
      ]
    },
    {
      "cell_type": "code",
      "metadata": {
        "id": "u4ICDs3pdjew",
        "colab_type": "code",
        "colab": {}
      },
      "source": [
        "%%capture\n",
        "!pip3 install rdflib"
      ],
      "execution_count": 1,
      "outputs": []
    },
    {
      "cell_type": "code",
      "metadata": {
        "id": "uXa_FfKjdje0",
        "colab_type": "code",
        "colab": {}
      },
      "source": [
        "import rdflib\n",
        "from rdflib import Graph\n",
        "from rdflib.namespace import DC, RDF, FOAF\n",
        "from rdflib import URIRef, BNode, Literal"
      ],
      "execution_count": 2,
      "outputs": []
    },
    {
      "cell_type": "markdown",
      "metadata": {
        "id": "U4WVBzEYhaaN",
        "colab_type": "text"
      },
      "source": [
        "# First Graph"
      ]
    },
    {
      "cell_type": "code",
      "metadata": {
        "id": "gCJwzn8Xhct_",
        "colab_type": "code",
        "colab": {
          "base_uri": "https://localhost:8080/",
          "height": 154
        },
        "outputId": "59db086d-7a6b-43a7-d299-116a3c7d8d1b"
      },
      "source": [
        "g = Graph()\n",
        "# Graph using N3 syntax\n",
        "n3data = \"\"\"\\\n",
        "@prefix : <http://www.snee.com/ns/demo#> .\n",
        ":Jane :hasParent :Gene .\n",
        ":Gene :hasParent :Pat ;\n",
        "      :gender    :female .\n",
        ":Joan :hasParent :Pat ;\n",
        "      :gender    :female .\n",
        ":Pat  :gender    :male .\n",
        ":Mike :hasParent :Joan .\"\"\"\n",
        "g.parse(data=n3data, format=\"n3\")\n",
        "#print all triples\n",
        "for s, p, o in g:\n",
        "   print((s, p, o))"
      ],
      "execution_count": 16,
      "outputs": [
        {
          "output_type": "stream",
          "text": [
            "(rdflib.term.URIRef('http://www.snee.com/ns/demo#Joan'), rdflib.term.URIRef('http://www.snee.com/ns/demo#hasParent'), rdflib.term.URIRef('http://www.snee.com/ns/demo#Pat'))\n",
            "(rdflib.term.URIRef('http://www.snee.com/ns/demo#Joan'), rdflib.term.URIRef('http://www.snee.com/ns/demo#gender'), rdflib.term.URIRef('http://www.snee.com/ns/demo#female'))\n",
            "(rdflib.term.URIRef('http://www.snee.com/ns/demo#Gene'), rdflib.term.URIRef('http://www.snee.com/ns/demo#hasParent'), rdflib.term.URIRef('http://www.snee.com/ns/demo#Pat'))\n",
            "(rdflib.term.URIRef('http://www.snee.com/ns/demo#Jane'), rdflib.term.URIRef('http://www.snee.com/ns/demo#hasParent'), rdflib.term.URIRef('http://www.snee.com/ns/demo#Gene'))\n",
            "(rdflib.term.URIRef('http://www.snee.com/ns/demo#Pat'), rdflib.term.URIRef('http://www.snee.com/ns/demo#gender'), rdflib.term.URIRef('http://www.snee.com/ns/demo#male'))\n",
            "(rdflib.term.URIRef('http://www.snee.com/ns/demo#Gene'), rdflib.term.URIRef('http://www.snee.com/ns/demo#gender'), rdflib.term.URIRef('http://www.snee.com/ns/demo#female'))\n",
            "(rdflib.term.URIRef('http://www.snee.com/ns/demo#Mike'), rdflib.term.URIRef('http://www.snee.com/ns/demo#hasParent'), rdflib.term.URIRef('http://www.snee.com/ns/demo#Joan'))\n"
          ],
          "name": "stdout"
        }
      ]
    },
    {
      "cell_type": "code",
      "metadata": {
        "id": "jI6MHUXymPZE",
        "colab_type": "code",
        "colab": {
          "base_uri": "https://localhost:8080/",
          "height": 54
        },
        "outputId": "7b3916e8-3e2a-4df0-e71d-8cdc72ae651e"
      },
      "source": [
        "# Lookup Jane by global identifier\n",
        "jane = URIRef('http://www.snee.com/ns/demo#Jane')\n",
        "print([o for o in g.predicate_objects(subject=jane)])"
      ],
      "execution_count": 18,
      "outputs": [
        {
          "output_type": "stream",
          "text": [
            "[(rdflib.term.URIRef('http://www.snee.com/ns/demo#hasParent'), rdflib.term.URIRef('http://www.snee.com/ns/demo#Gene'))]\n"
          ],
          "name": "stdout"
        }
      ]
    },
    {
      "cell_type": "markdown",
      "metadata": {
        "id": "r6Z0igclmd5d",
        "colab_type": "text"
      },
      "source": [
        "# Custom Graph"
      ]
    },
    {
      "cell_type": "code",
      "metadata": {
        "id": "AhuFCDljdje3",
        "colab_type": "code",
        "colab": {
          "base_uri": "https://localhost:8080/",
          "height": 121
        },
        "outputId": "2ea685ed-ffc3-43cf-d947-5615313f836f"
      },
      "source": [
        "bob = URIRef(\"http://example.org/people/Bob\")\n",
        "linda = BNode() #  Blank node with a autogenerated GUID\n",
        "\n",
        "name = Literal('Bob') # passing a string\n",
        "age = Literal(24) # passing a python int\n",
        "height = Literal(76.5) # passing a python float\n",
        "\n",
        "g = Graph()\n",
        "\n",
        "g.add( (bob, RDF.type, FOAF.Person) )\n",
        "g.add( (bob, FOAF.name, name) )\n",
        "g.add( (bob, FOAF.knows, linda) )\n",
        "g.add( (linda, RDF.type, FOAF.Person) )\n",
        "g.add( (linda, FOAF.name, Literal('Linda') ) )\n",
        "\n",
        "#print all triples\n",
        "for s, p, o in g:\n",
        "   print((s, p, o))"
      ],
      "execution_count": 14,
      "outputs": [
        {
          "output_type": "stream",
          "text": [
            "(rdflib.term.URIRef('http://example.org/people/Bob'), rdflib.term.URIRef('http://www.w3.org/1999/02/22-rdf-syntax-ns#type'), rdflib.term.URIRef('http://xmlns.com/foaf/0.1/Person'))\n",
            "(rdflib.term.URIRef('http://example.org/people/Bob'), rdflib.term.URIRef('http://xmlns.com/foaf/0.1/knows'), rdflib.term.BNode('N125f48440bf44510b6227a5b50b806af'))\n",
            "(rdflib.term.URIRef('http://example.org/people/Bob'), rdflib.term.URIRef('http://xmlns.com/foaf/0.1/name'), rdflib.term.Literal('Bob'))\n",
            "(rdflib.term.BNode('N125f48440bf44510b6227a5b50b806af'), rdflib.term.URIRef('http://www.w3.org/1999/02/22-rdf-syntax-ns#type'), rdflib.term.URIRef('http://xmlns.com/foaf/0.1/Person'))\n",
            "(rdflib.term.BNode('N125f48440bf44510b6227a5b50b806af'), rdflib.term.URIRef('http://xmlns.com/foaf/0.1/name'), rdflib.term.Literal('Linda'))\n"
          ],
          "name": "stdout"
        }
      ]
    },
    {
      "cell_type": "markdown",
      "metadata": {
        "id": "4VSbATeAdje6",
        "colab_type": "text"
      },
      "source": [
        "# Sparql"
      ]
    },
    {
      "cell_type": "code",
      "metadata": {
        "id": "g5nUsr7Sdje6",
        "colab_type": "code",
        "colab": {
          "base_uri": "https://localhost:8080/",
          "height": 154
        },
        "outputId": "57da1847-76ca-4c5a-83f2-cea01fca0da7"
      },
      "source": [
        "result = g.query(\n",
        "    \"\"\"SELECT *\n",
        "  WHERE\n",
        "  {?s ?p ?o}\n",
        "\"\"\")\n",
        "for row in result:\n",
        "    print(row)\n"
      ],
      "execution_count": 19,
      "outputs": [
        {
          "output_type": "stream",
          "text": [
            "(rdflib.term.URIRef('http://www.snee.com/ns/demo#Joan'), rdflib.term.URIRef('http://www.snee.com/ns/demo#Pat'), rdflib.term.URIRef('http://www.snee.com/ns/demo#hasParent'))\n",
            "(rdflib.term.URIRef('http://www.snee.com/ns/demo#Joan'), rdflib.term.URIRef('http://www.snee.com/ns/demo#female'), rdflib.term.URIRef('http://www.snee.com/ns/demo#gender'))\n",
            "(rdflib.term.URIRef('http://www.snee.com/ns/demo#Gene'), rdflib.term.URIRef('http://www.snee.com/ns/demo#Pat'), rdflib.term.URIRef('http://www.snee.com/ns/demo#hasParent'))\n",
            "(rdflib.term.URIRef('http://www.snee.com/ns/demo#Jane'), rdflib.term.URIRef('http://www.snee.com/ns/demo#Gene'), rdflib.term.URIRef('http://www.snee.com/ns/demo#hasParent'))\n",
            "(rdflib.term.URIRef('http://www.snee.com/ns/demo#Pat'), rdflib.term.URIRef('http://www.snee.com/ns/demo#male'), rdflib.term.URIRef('http://www.snee.com/ns/demo#gender'))\n",
            "(rdflib.term.URIRef('http://www.snee.com/ns/demo#Gene'), rdflib.term.URIRef('http://www.snee.com/ns/demo#female'), rdflib.term.URIRef('http://www.snee.com/ns/demo#gender'))\n",
            "(rdflib.term.URIRef('http://www.snee.com/ns/demo#Mike'), rdflib.term.URIRef('http://www.snee.com/ns/demo#Joan'), rdflib.term.URIRef('http://www.snee.com/ns/demo#hasParent'))\n"
          ],
          "name": "stdout"
        }
      ]
    },
    {
      "cell_type": "code",
      "metadata": {
        "id": "Wp9n9xbIdje9",
        "colab_type": "code",
        "colab": {}
      },
      "source": [
        "result = g.query(\n",
        "    \"\"\"SELECT DISTINCT ?aname ?bname\n",
        "       WHERE {\n",
        "          ?a foaf:knows ?b .\n",
        "          ?a foaf:name ?aname .\n",
        "          ?b foaf:name ?bname .\n",
        "       }\"\"\", initNs={ 'foaf': FOAF })\n",
        "\n",
        "for row in result:\n",
        "    print(\"%s knows %s\" % row)"
      ],
      "execution_count": null,
      "outputs": []
    },
    {
      "cell_type": "markdown",
      "metadata": {
        "id": "p0jdc3gKdjfA",
        "colab_type": "text"
      },
      "source": [
        "# Import external Data"
      ]
    },
    {
      "cell_type": "code",
      "metadata": {
        "jupyter": {
          "outputs_hidden": true
        },
        "id": "zIs8e6GWdjfB",
        "colab_type": "code",
        "colab": {}
      },
      "source": [
        "g1 = rdflib.Graph()\n",
        "g1.parse(\"http://www.w3.org/People/Berners-Lee/card\")\n",
        "\n",
        "print(\"Graph has %s statements.\" % len(g1))\n",
        "\n",
        "for s, p, o in g1:\n",
        "   print((s, p, o))"
      ],
      "execution_count": null,
      "outputs": []
    }
  ]
}