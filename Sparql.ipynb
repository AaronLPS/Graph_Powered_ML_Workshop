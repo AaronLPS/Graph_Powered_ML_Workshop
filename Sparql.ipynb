{
 "cells": [
  {
   "cell_type": "markdown",
   "metadata": {},
   "source": [
    "# SPARQL "
   ]
  },
  {
   "cell_type": "markdown",
   "metadata": {},
   "source": [
    "<a href=\"https://colab.research.google.com/github/joerg84/Graph_Powered_ML_Workshop/blob/master/Sparql.ipynb\" target=\"_parent\"><img src=\"https://colab.research.google.com/assets/colab-badge.svg\" alt=\"Open In Colab\"/></a>"
   ]
  },
  {
   "cell_type": "code",
   "execution_count": null,
   "metadata": {},
   "outputs": [],
   "source": [
    "%%capture\n",
    "!pip3 install rdflib"
   ]
  },
  {
   "cell_type": "code",
   "execution_count": null,
   "metadata": {},
   "outputs": [],
   "source": [
    "import rdflib\n",
    "from rdflib.namespace import DC, RDF, FOAF\n",
    "from rdflib import URIRef, BNode, Literal"
   ]
  },
  {
   "cell_type": "code",
   "execution_count": null,
   "metadata": {},
   "outputs": [],
   "source": [
    "bob = URIRef(\"http://example.org/people/Bob\")\n",
    "linda = BNode() # a GUID is generated\n",
    "\n",
    "name = Literal('Bob') # passing a string\n",
    "age = Literal(24) # passing a python int\n",
    "height = Literal(76.5) # passing a python float\n",
    "\n",
    "g = rdflib.Graph()\n",
    "\n",
    "g.add( (bob, RDF.type, FOAF.Person) )\n",
    "g.add( (bob, FOAF.name, name) )\n",
    "g.add( (bob, FOAF.knows, linda) )\n",
    "g.add( (linda, RDF.type, FOAF.Person) )\n",
    "g.add( (linda, FOAF.name, Literal('Linda') ) )\n",
    "\n",
    "#print all triples\n",
    "for s, p, o in g:\n",
    "   print((s, p, o))"
   ]
  },
  {
   "cell_type": "markdown",
   "metadata": {},
   "source": [
    "Print all triples from Sparql"
   ]
  },
  {
   "cell_type": "code",
   "execution_count": null,
   "metadata": {},
   "outputs": [],
   "source": [
    "result = g.query(\n",
    "    \"\"\"SELECT *\n",
    "  WHERE\n",
    "  {?s ?p ?o}\n",
    "\"\"\")\n",
    "for row in result:\n",
    "    print(row)\n"
   ]
  },
  {
   "cell_type": "code",
   "execution_count": null,
   "metadata": {},
   "outputs": [],
   "source": [
    "result = g.query(\n",
    "    \"\"\"SELECT DISTINCT ?aname ?bname\n",
    "       WHERE {\n",
    "          ?a foaf:knows ?b .\n",
    "          ?a foaf:name ?aname .\n",
    "          ?b foaf:name ?bname .\n",
    "       }\"\"\", initNs={ 'foaf': FOAF })\n",
    "\n",
    "for row in result:\n",
    "    print(\"%s knows %s\" % row)"
   ]
  },
  {
   "cell_type": "markdown",
   "metadata": {},
   "source": [
    "Slightly larger Graph:"
   ]
  },
  {
   "cell_type": "code",
   "execution_count": null,
   "metadata": {
    "jupyter": {
     "outputs_hidden": true
    }
   },
   "outputs": [],
   "source": [
    "g = rdflib.Graph()\n",
    "g.parse(\"http://www.w3.org/People/Berners-Lee/card\")\n",
    "\n",
    "print(\"Graph has %s statements.\" % len(g))\n",
    "\n",
    "for s, p, o in g:\n",
    "   print((s, p, o))"
   ]
  }
 ],
 "metadata": {
  "kernelspec": {
   "display_name": "Python 3",
   "language": "python",
   "name": "python3"
  },
  "language_info": {
   "codemirror_mode": {
    "name": "ipython",
    "version": 3
   },
   "file_extension": ".py",
   "mimetype": "text/x-python",
   "name": "python",
   "nbconvert_exporter": "python",
   "pygments_lexer": "ipython3",
   "version": "3.7.7"
  }
 },
 "nbformat": 4,
 "nbformat_minor": 4
}
