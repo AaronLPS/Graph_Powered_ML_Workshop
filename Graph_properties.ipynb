{
  "nbformat": 4,
  "nbformat_minor": 0,
  "metadata": {
    "kernelspec": {
      "display_name": "Python 3",
      "language": "python",
      "name": "python3"
    },
    "language_info": {
      "codemirror_mode": {
        "name": "ipython",
        "version": 3
      },
      "file_extension": ".py",
      "mimetype": "text/x-python",
      "name": "python",
      "nbconvert_exporter": "python",
      "pygments_lexer": "ipython3",
      "version": "3.7.7"
    },
    "colab": {
      "name": "NetworkX.ipynb",
      "provenance": []
    }
  },
  "cells": [
    {
      "cell_type": "markdown",
      "metadata": {
        "id": "c6tpRnhgdAZ5",
        "colab_type": "text"
      },
      "source": [
        "# NetworkX"
      ]
    },
    {
      "cell_type": "markdown",
      "metadata": {
        "id": "SGQeJ6RAdAZ6",
        "colab_type": "text"
      },
      "source": [
        "<a href=\"https://colab.research.google.com/github/joerg84/Graph_Powered_ML_Workshop/blob/master/NetworkX.ipynb\" target=\"_parent\"><img src=\"https://colab.research.google.com/assets/colab-badge.svg\" alt=\"Open In Colab\"/></a>"
      ]
    },
    {
      "cell_type": "markdown",
      "metadata": {
        "id": "sxMRG10ldAZ6",
        "colab_type": "text"
      },
      "source": [
        "First, setting up our environment."
      ]
    },
    {
      "cell_type": "code",
      "metadata": {
        "id": "q3i99QX_dAZ7",
        "colab_type": "code",
        "colab": {}
      },
      "source": [
        "%%capture\n",
        "!git clone https://github.com/joerg84/Graph_Powered_ML_Workshop.git\n",
        "!rsync -av Graph_Powered_ML_Workshop/ ./ --exclude=.git\n",
        "!pip3 install networkx\n",
        "!pip3 install matplotlib"
      ],
      "execution_count": null,
      "outputs": []
    },
    {
      "cell_type": "code",
      "metadata": {
        "id": "aVpLp6xZdAZ-",
        "colab_type": "code",
        "colab": {}
      },
      "source": [
        "import networkx as nx\n",
        "import matplotlib.pyplot as plt"
      ],
      "execution_count": null,
      "outputs": []
    },
    {
      "cell_type": "code",
      "metadata": {
        "id": "PLrKCPgudAaB",
        "colab_type": "code",
        "colab": {}
      },
      "source": [
        "G = nx.Graph()\n",
        "G.add_edges_from([(1, 2), (1, 3)])\n",
        "G.add_node(\"spam\") \n",
        "\n",
        "nx.draw(G, with_labels=True, font_weight='bold')"
      ],
      "execution_count": null,
      "outputs": []
    },
    {
      "cell_type": "markdown",
      "metadata": {
        "id": "ByL-2ydCdAaD",
        "colab_type": "text"
      },
      "source": [
        "Let us perform some basics Graph Analytics. Check here for more: https://networkx.github.io/documentation/stable/reference/algorithms/index.html"
      ]
    },
    {
      "cell_type": "code",
      "metadata": {
        "id": "1Rw9010RdAaE",
        "colab_type": "code",
        "colab": {}
      },
      "source": [
        "print(\"Connected Components\")\n",
        "print(list(nx.connected_components(G)))\n",
        "\n",
        "print(\"Degree\")\n",
        "print(G.degree())"
      ],
      "execution_count": null,
      "outputs": []
    },
    {
      "cell_type": "code",
      "metadata": {
        "id": "jAsc5D-IdAaG",
        "colab_type": "code",
        "colab": {}
      },
      "source": [
        "# Node attributes and connections\n",
        "G.add_node(\"Boston\", country='USA')\n",
        "G.add_node(\"Berlin\", country='Germany')\n",
        "print(G.nodes.data())\n",
        "\n",
        "G.add_weighted_edges_from([(\"Boston\", \"Berlin\", 6077)])\n",
        "# print egdes\n",
        "print(G[\"Boston\"])"
      ],
      "execution_count": null,
      "outputs": []
    },
    {
      "cell_type": "markdown",
      "metadata": {
        "id": "ra7Pboy7dAaJ",
        "colab_type": "text"
      },
      "source": [
        "NetworkX also comes with a classic graphs and generators:"
      ]
    },
    {
      "cell_type": "code",
      "metadata": {
        "id": "0lsBSMzsdAaJ",
        "colab_type": "code",
        "colab": {}
      },
      "source": [
        "com = nx.complete_graph(10)\n",
        "nx.draw(com, with_labels=True, font_weight='bold')"
      ],
      "execution_count": null,
      "outputs": []
    },
    {
      "cell_type": "code",
      "metadata": {
        "id": "LgXZHoCsdAaM",
        "colab_type": "code",
        "colab": {}
      },
      "source": [
        "# Directed Graph\n",
        "dg = nx.DiGraph()\n",
        "dg.add_weighted_edges_from([(1, 2, 0.5), (3, 1, 0.75)])\n",
        "nx.draw(dg, with_labels=True, font_weight='bold')"
      ],
      "execution_count": null,
      "outputs": []
    },
    {
      "cell_type": "markdown",
      "metadata": {
        "id": "2QE9zQmcdAaO",
        "colab_type": "text"
      },
      "source": [
        "Remember?"
      ]
    },
    {
      "cell_type": "markdown",
      "metadata": {
        "id": "LtwVNOw6dAaP",
        "colab_type": "text"
      },
      "source": [
        "![ratings](https://github.com/joerg84/Graph_Powered_ML_Workshop/blob/master/img/user_movie_rating.png?raw=1)"
      ]
    },
    {
      "cell_type": "code",
      "metadata": {
        "id": "H6vRI3codAaP",
        "colab_type": "code",
        "colab": {}
      },
      "source": [
        "print(\"Rating Data\")\n",
        "!head -n 3 data/ratings.csv \n"
      ],
      "execution_count": null,
      "outputs": []
    },
    {
      "cell_type": "code",
      "metadata": {
        "id": "Q82zJXK_dAaS",
        "colab_type": "code",
        "colab": {}
      },
      "source": [
        "import csv\n",
        "\n",
        "edge_list = [(1,2,1),(1,3,3)]\n",
        "counter = 0\n",
        "with open('data/ratings.csv', newline='') as csvfile:\n",
        "        reader = csv.reader(csvfile, delimiter=',', quotechar='|')\n",
        "        #Skip header\n",
        "        next(reader)\n",
        "        for row in reader:\n",
        "            user_id,movie_id,rating,timestamp = tuple(row)\n",
        "            edge_list.append((\"User_\"+user_id, \"Movie_\"+movie_id, rating))\n",
        "            counter = counter + 1\n",
        "            if counter > 10:\n",
        "                break\n",
        "                \n",
        "                \n",
        "G = nx.Graph()\n",
        "G.add_weighted_edges_from(edge_list)\n",
        "nx.draw(G, with_labels=True, font_weight='bold')"
      ],
      "execution_count": null,
      "outputs": []
    },
    {
      "cell_type": "markdown",
      "metadata": {
        "id": "b0fVa4jqdAaU",
        "colab_type": "text"
      },
      "source": [
        "*Challenges*:\n",
        "* Add different colours for differt node types when drawing (hint: https://networkx.github.io/documentation/stable/auto_examples/drawing/plot_labels_and_colors.html)\n",
        "* Find most often rated movie\n",
        "* Find movie with highest average rating\n",
        "* Add node attributes from User/Movies\n",
        "* Recreate the movie recommendation system \n",
        "* ...\n"
      ]
    },
    {
      "cell_type": "code",
      "metadata": {
        "id": "HA4VqWKwdAaU",
        "colab_type": "code",
        "colab": {}
      },
      "source": [
        ""
      ],
      "execution_count": null,
      "outputs": []
    }
  ]
}