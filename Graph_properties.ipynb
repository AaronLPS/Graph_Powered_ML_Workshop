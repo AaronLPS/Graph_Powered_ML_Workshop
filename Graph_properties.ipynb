{
 "cells": [
  {
   "cell_type": "markdown",
   "metadata": {
    "colab_type": "text",
    "id": "c6tpRnhgdAZ5"
   },
   "source": [
    "# Graph Properties"
   ]
  },
  {
   "cell_type": "markdown",
   "metadata": {
    "colab_type": "text",
    "id": "SGQeJ6RAdAZ6"
   },
   "source": [
    "<a href=\"https://colab.research.google.com/github/joerg84/Graph_Powered_ML_Workshop/blob/master/NetworkX.ipynb\" target=\"_parent\"><img src=\"https://colab.research.google.com/assets/colab-badge.svg\" alt=\"Open In Colab\"/></a>"
   ]
  },
  {
   "cell_type": "markdown",
   "metadata": {
    "colab_type": "text",
    "id": "sxMRG10ldAZ6"
   },
   "source": [
    "First, setting up our environment."
   ]
  },
  {
   "cell_type": "code",
   "execution_count": null,
   "metadata": {
    "colab": {},
    "colab_type": "code",
    "id": "q3i99QX_dAZ7"
   },
   "outputs": [],
   "source": [
    "%%capture\n",
    "!git clone https://github.com/joerg84/Graph_Powered_ML_Workshop.git\n",
    "!rsync -av Graph_Powered_ML_Workshop/ ./ --exclude=.git\n",
    "!pip3 install networkx\n",
    "!pip3 install matplotlib"
   ]
  },
  {
   "cell_type": "code",
   "execution_count": null,
   "metadata": {
    "colab": {},
    "colab_type": "code",
    "id": "aVpLp6xZdAZ-"
   },
   "outputs": [],
   "source": [
    "import networkx as nx\n",
    "import matplotlib.pyplot as plt"
   ]
  },
  {
   "cell_type": "markdown",
   "metadata": {
    "colab_type": "text",
    "id": "2qomWffKME4b"
   },
   "source": [
    "# First Graph"
   ]
  },
  {
   "cell_type": "code",
   "execution_count": null,
   "metadata": {
    "colab": {
     "base_uri": "https://localhost:8080/",
     "height": 487
    },
    "colab_type": "code",
    "id": "PLrKCPgudAaB",
    "outputId": "9853fb78-59a3-483e-ed56-1475a35a5f92"
   },
   "outputs": [],
   "source": [
    "G = nx.Graph()\n",
    "G.add_edges_from([(1, 2), (2, 3), (3,4), (4,1)])\n",
    "\n",
    "nx.draw(G, with_labels=True, font_weight='bold')\n",
    "\n",
    "print(\"Vertices:\")\n",
    "print(list(G.nodes))\n",
    "\n",
    "print(\"Edges:\")\n",
    "print(list(G.edges))\n",
    "\n",
    "print(\"Degree deg(1):\")\n",
    "print(G.degree[1])\n",
    "\n",
    "print(\"Eccentricity e(1):\")\n",
    "print(nx.eccentricity(G,1))\n",
    "\n",
    "print(\"Diameter d(G):\")\n",
    "print(nx.diameter(G))"
   ]
  },
  {
   "cell_type": "markdown",
   "metadata": {
    "colab_type": "text",
    "id": "sffwOK9aO6yF"
   },
   "source": [
    "# Graph Properties"
   ]
  },
  {
   "cell_type": "code",
   "execution_count": null,
   "metadata": {
    "colab": {
     "base_uri": "https://localhost:8080/",
     "height": 420
    },
    "colab_type": "code",
    "id": "ymlwlwjQO970",
    "outputId": "780b6110-7b4d-4159-9d91-795a4cbc027d"
   },
   "outputs": [],
   "source": [
    "# Directed Graph\n",
    "dg = nx.DiGraph()\n",
    "dg.add_edges_from([(1, 2), (2, 3), (3,4), (4,1)])\n",
    "nx.draw(dg, with_labels=True, font_weight='bold')\n",
    "\n",
    "print(\"Degree:\")\n",
    "print(dg.degree[1])\n",
    "print(\"Indegree:\")\n",
    "print(dg.in_degree[1])\n",
    "print(\"Outdegree:\")\n",
    "print(dg.out_degree[1])\n"
   ]
  },
  {
   "cell_type": "code",
   "execution_count": null,
   "metadata": {
    "colab": {
     "base_uri": "https://localhost:8080/",
     "height": 319
    },
    "colab_type": "code",
    "id": "rL1kPAcPQCeP",
    "outputId": "d9ca2ebd-096d-42fe-b4ed-c95c59d3357f"
   },
   "outputs": [],
   "source": [
    "# Weighted Graph\n",
    "wg = nx.Graph()\n",
    "wg.add_edge(1, 2, weight=0.54)\n",
    "wg.add_weighted_edges_from([ (2, 3, 0.75), (3, 4, 1), (4, 1, 1.25)])\n",
    "nx.draw(wg, with_labels=True, font_weight='bold')\n"
   ]
  },
  {
   "cell_type": "code",
   "execution_count": null,
   "metadata": {
    "colab": {
     "base_uri": "https://localhost:8080/",
     "height": 319
    },
    "colab_type": "code",
    "id": "0lsBSMzsdAaJ",
    "outputId": "db40b353-0b6c-4eae-d21b-0361b8fc84eb"
   },
   "outputs": [],
   "source": [
    "# Complete Graph\n",
    "com = nx.complete_graph(10)\n",
    "nx.draw(com, with_labels=True, font_weight='bold')"
   ]
  },
  {
   "cell_type": "code",
   "execution_count": null,
   "metadata": {
    "colab": {
     "base_uri": "https://localhost:8080/",
     "height": 353
    },
    "colab_type": "code",
    "id": "Kt0iDeJQUiEV",
    "outputId": "f76c357b-7ca5-4489-e8a4-fb5976d07f51"
   },
   "outputs": [],
   "source": [
    "# Bipartite Graph\n",
    "B = nx.Graph()\n",
    "# Add nodes with the node attribute \"bipartite\"\n",
    "B.add_nodes_from([1, 2, 3, 4], bipartite=0)\n",
    "B.add_nodes_from([\"a\", \"b\", \"c\"], bipartite=1)\n",
    "# Add edges only between nodes of opposite node sets\n",
    "B.add_edges_from([(1, \"a\"), (1, \"b\"), (2, \"b\"), (2, \"c\"), (3, \"c\"), (4, \"a\")])\n",
    "\n",
    "nx.draw(B, with_labels=True, font_weight='bold')\n",
    "\n",
    "set1, set2 = nx.bipartite.sets(B)\n",
    "print(set1)\n",
    "print(set2)"
   ]
  },
  {
   "cell_type": "markdown",
   "metadata": {
    "colab_type": "text",
    "id": "oMTHrnX6To9A"
   },
   "source": [
    "# Traversals"
   ]
  },
  {
   "cell_type": "code",
   "execution_count": null,
   "metadata": {
    "colab": {
     "base_uri": "https://localhost:8080/",
     "height": 353
    },
    "colab_type": "code",
    "id": "-9EyKdR5TtDY",
    "outputId": "a6286e53-f0a5-4728-a0c8-b7349cfa05ba"
   },
   "outputs": [],
   "source": [
    "S = nx.nx.complete_graph(5)\n",
    "nx.draw(S, with_labels=True, font_weight='bold')\n",
    "\n",
    "# Depth First\n",
    "print(list(nx.dfs_edges(S, source=0)))\n",
    "\n",
    "# Breadth First\n",
    "print(list(nx.bfs_edges(S, source=0)))"
   ]
  },
  {
   "cell_type": "markdown",
   "metadata": {
    "colab_type": "text",
    "id": "DeBE6ll0S5ek"
   },
   "source": [
    "Check more: https://networkx.github.io/documentation/stable/reference/algorithms/index.html"
   ]
  }
 ],
 "metadata": {
  "colab": {
   "name": "Graph_properties.ipynb",
   "provenance": []
  },
  "kernelspec": {
   "display_name": "Python 3",
   "language": "python",
   "name": "python3"
  },
  "language_info": {
   "codemirror_mode": {
    "name": "ipython",
    "version": 3
   },
   "file_extension": ".py",
   "mimetype": "text/x-python",
   "name": "python",
   "nbconvert_exporter": "python",
   "pygments_lexer": "ipython3",
   "version": "3.7.7"
  }
 },
 "nbformat": 4,
 "nbformat_minor": 0
}
